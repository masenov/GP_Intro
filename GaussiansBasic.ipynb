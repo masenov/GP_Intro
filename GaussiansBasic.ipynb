{
 "cells": [
  {
   "cell_type": "code",
   "execution_count": 1,
   "metadata": {
    "collapsed": false
   },
   "outputs": [
    {
     "data": {
      "text/html": [
       "\n",
       "<script src=\"https://code.jquery.com/ui/1.10.4/jquery-ui.min.js\" type=\"text/javascript\"></script>\n",
       "<script type=\"text/javascript\">function HoloViewsWidget(){\n",
       "}\n",
       "\n",
       "HoloViewsWidget.prototype.init_slider = function(init_val){\n",
       "\tif(this.load_json) {\n",
       "\t\tthis.from_json()\n",
       "\t} else {\n",
       "\t\tthis.update_cache();\n",
       "\t}\n",
       "}\n",
       "\n",
       "HoloViewsWidget.prototype.populate_cache = function(idx){\n",
       "    this.cache[idx].html(this.frames[idx]);\n",
       "    if (this.embed) {\n",
       "        delete this.frames[idx];\n",
       "    }\n",
       "}\n",
       "\n",
       "HoloViewsWidget.prototype.process_error = function(msg){\n",
       "\n",
       "}\n",
       "\n",
       "HoloViewsWidget.prototype.from_json = function() {\n",
       "\tvar data_url = this.json_path + this.id + '.json';\n",
       "\t$.getJSON(data_url, $.proxy(function(json_data) {\n",
       "\t\tthis.frames = json_data;\n",
       "\t\tthis.update_cache();\n",
       "\t\tthis.update(0);\n",
       "\t}, this));\n",
       "}\n",
       "\n",
       "HoloViewsWidget.prototype.dynamic_update = function(current){\n",
       "    function callback(msg){\n",
       "        /* This callback receives data from Python as a string\n",
       "         in order to parse it correctly quotes are sliced off*/\n",
       "        var data = msg.content.data['text/plain'].slice(1, -1);\n",
       "        this.frames[current] = data;\n",
       "        this.update_cache();\n",
       "        this.update(current);\n",
       "    }\n",
       "    if(!(current in this.cache)) {\n",
       "        var kernel = IPython.notebook.kernel;\n",
       "        callbacks = {iopub: {output: $.proxy(callback, this)}};\n",
       "        var cmd = \"holoviews.plotting.widgets.NdWidget.widgets['\" + this.id + \"'].update(\" + current + \")\";\n",
       "        kernel.execute(\"import holoviews;\" + cmd, callbacks, {silent : false});\n",
       "    } else {\n",
       "        this.update(current);\n",
       "    }\n",
       "}\n",
       "\n",
       "HoloViewsWidget.prototype.update_cache = function(){\n",
       "    var frame_len = Object.keys(this.frames).length;\n",
       "    for (var i=0; i<frame_len; i++) {\n",
       "        if(!this.load_json || this.dynamic)  {\n",
       "            frame = Object.keys(this.frames)[i];\n",
       "        } else {\n",
       "            frame = i;\n",
       "        }\n",
       "        if(!(frame in this.cache)) {\n",
       "            this.cache[frame] = $('<div />').appendTo(\"#\" + this.img_id).hide();\n",
       "            var cache_id = this.img_id+\"_\"+frame;\n",
       "            this.cache[frame].attr(\"id\", cache_id);\n",
       "            this.populate_cache(frame);\n",
       "        }\n",
       "    }\n",
       "}\n",
       "\n",
       "HoloViewsWidget.prototype.update = function(current){\n",
       "    if(current in this.cache) {\n",
       "        $.each(this.cache, function(index, value) {\n",
       "            value.hide();\n",
       "        });\n",
       "        this.cache[current].show();\n",
       "\t\tthis.wait = false;\n",
       "    }\n",
       "}\n",
       "\n",
       "\n",
       "function SelectionWidget(frames, id, slider_ids, keyMap, dim_vals, notFound, load_json, mode, cached, json_path, dynamic){\n",
       "    this.frames = frames;\n",
       "    this.fig_id = \"fig_\" + id;\n",
       "    this.img_id = \"_anim_img\" + id;\n",
       "    this.id = id;\n",
       "    this.slider_ids = slider_ids;\n",
       "    this.keyMap = keyMap\n",
       "    this.current_frame = 0;\n",
       "    this.current_vals = dim_vals;\n",
       "    this.load_json = load_json;\n",
       "    this.mode = mode;\n",
       "    this.notFound = notFound;\n",
       "    this.cached = cached;\n",
       "    this.dynamic = dynamic;\n",
       "    this.cache = {};\n",
       "\tthis.json_path = json_path;\n",
       "    this.init_slider(this.current_vals[0]);\n",
       "\tthis.queue = [];\n",
       "\tthis.wait = false;\n",
       "}\n",
       "\n",
       "SelectionWidget.prototype = new HoloViewsWidget;\n",
       "\n",
       "\n",
       "SelectionWidget.prototype.get_key = function(current_vals) {\n",
       "\tvar key = \"(\";\n",
       "    for (var i=0; i<this.slider_ids.length; i++)\n",
       "    {\n",
       "        val = this.current_vals[i];\n",
       "        if (!(typeof val === 'string')) {\n",
       "            if (val % 1 === 0) { var fixed = 1;}\n",
       "            else { var fixed = 10;}\n",
       "            val = val.toFixed(fixed)\n",
       "        }\n",
       "        key += \"'\" + val + \"'\";\n",
       "        if(i != this.slider_ids.length-1) { key += ', ';}\n",
       "        else if(this.slider_ids.length == 1) { key += ',';}\n",
       "    }\n",
       "    key += \")\";\n",
       "\treturn this.keyMap[key];\n",
       "}\n",
       "\n",
       "SelectionWidget.prototype.set_frame = function(dim_val, dim_idx){\n",
       "\tthis.current_vals[dim_idx] = dim_val;\n",
       "    var current = this.get_key(this.current_vals);\n",
       "    if(current === undefined && !this.dynamic) {\n",
       "        return\n",
       "    }\n",
       "\tif (this.dynamic || !this.cached) {\n",
       "\t\tif (this.time === undefined) {\n",
       "\t\t\t// Do nothing the first time\n",
       "\t\t} else if ((this.timed === undefined) || ((this.time + this.timed) > Date.now())) {\n",
       "\t\t\tvar key = this.current_vals;\n",
       "\t\t\tif (!this.dynamic) {\n",
       "\t\t\t\tkey = this.get_key(key);\n",
       "\t\t\t}\n",
       "\t\t\tthis.queue.push(key);\n",
       "\t\t\treturn\n",
       "\t\t}\n",
       "\t}\n",
       "\tthis.queue = [];\n",
       "\tthis.time = Date.now();\n",
       "    if(this.dynamic) {\n",
       "        this.dynamic_update(this.current_vals)\n",
       "        return;\n",
       "    }\n",
       "    this.current_frame = current;\n",
       "    if(this.cached) {\n",
       "        this.update(current)\n",
       "    } else {\n",
       "        this.dynamic_update(current)\n",
       "    }\n",
       "}\n",
       "\n",
       "\n",
       "/* Define the ScrubberWidget class */\n",
       "function ScrubberWidget(frames, num_frames, id, interval, load_json, mode, cached, json_path, dynamic){\n",
       "    this.img_id = \"_anim_img\" + id;\n",
       "    this.slider_id = \"_anim_slider\" + id;\n",
       "    this.loop_select_id = \"_anim_loop_select\" + id;\n",
       "    this.id = id;\n",
       "    this.fig_id = \"fig_\" + id;\n",
       "    this.interval = interval;\n",
       "    this.current_frame = 0;\n",
       "    this.direction = 0;\n",
       "    this.dynamic = dynamic;\n",
       "    this.timer = null;\n",
       "    this.load_json = load_json;\n",
       "    this.mode = mode;\n",
       "    this.cached = cached;\n",
       "    this.frames = frames;\n",
       "    this.cache = {};\n",
       "    this.length = num_frames;\n",
       "\tthis.json_path = json_path;\n",
       "    document.getElementById(this.slider_id).max = this.length - 1;\n",
       "    this.init_slider(0);\n",
       "\tthis.wait = false;\n",
       "\tthis.queue = [];\n",
       "}\n",
       "\n",
       "ScrubberWidget.prototype = new HoloViewsWidget;\n",
       "\n",
       "ScrubberWidget.prototype.set_frame = function(frame){\n",
       "\tthis.current_frame = frame;\n",
       "\twidget = document.getElementById(this.slider_id);\n",
       "    if (widget === null) {\n",
       "        this.pause_animation();\n",
       "        return\n",
       "    }\n",
       "    widget.value = this.current_frame;\n",
       "    if(this.cached) {\n",
       "        this.update(frame)\n",
       "    } else {\n",
       "        this.dynamic_update(frame)\n",
       "    }\n",
       "}\n",
       "\n",
       "\n",
       "ScrubberWidget.prototype.process_error = function(msg){\n",
       "\tif (msg.content.ename === 'StopIteration') {\n",
       "\t\tthis.pause_animation();\n",
       "\t\tthis.stopped = true;\n",
       "\t\tvar keys = Object.keys(this.frames)\n",
       "\t\tthis.length = keys.length;\n",
       "\t\tdocument.getElementById(this.slider_id).max = this.length-1;\n",
       "\t\tdocument.getElementById(this.slider_id).value = this.length-1;\n",
       "\t\tthis.current_frame = this.length-1;\n",
       "\t}\n",
       "}\n",
       "\n",
       "\n",
       "ScrubberWidget.prototype.get_loop_state = function(){\n",
       "    var button_group = document[this.loop_select_id].state;\n",
       "    for (var i = 0; i < button_group.length; i++) {\n",
       "        var button = button_group[i];\n",
       "        if (button.checked) {\n",
       "            return button.value;\n",
       "        }\n",
       "    }\n",
       "    return undefined;\n",
       "}\n",
       "\n",
       "\n",
       "ScrubberWidget.prototype.next_frame = function() {\n",
       "\tif (this.dynamic || !this.cached) {\n",
       "\t\tif (this.wait) {\n",
       "\t\t\treturn\n",
       "\t\t}\n",
       "\t\tthis.wait = true;\n",
       "\t}\n",
       "\tif (this.dynamic && this.current_frame + 1 >= this.length) {\n",
       "\t\tthis.length += 1;\n",
       "        document.getElementById(this.slider_id).max = this.length-1;\n",
       "\t}\n",
       "    this.set_frame(Math.min(this.length - 1, this.current_frame + 1));\n",
       "}\n",
       "\n",
       "ScrubberWidget.prototype.previous_frame = function() {\n",
       "    this.set_frame(Math.max(0, this.current_frame - 1));\n",
       "}\n",
       "\n",
       "ScrubberWidget.prototype.first_frame = function() {\n",
       "    this.set_frame(0);\n",
       "}\n",
       "\n",
       "ScrubberWidget.prototype.last_frame = function() {\n",
       "    this.set_frame(this.length - 1);\n",
       "}\n",
       "\n",
       "ScrubberWidget.prototype.slower = function() {\n",
       "    this.interval /= 0.7;\n",
       "    if(this.direction > 0){this.play_animation();}\n",
       "    else if(this.direction < 0){this.reverse_animation();}\n",
       "}\n",
       "\n",
       "ScrubberWidget.prototype.faster = function() {\n",
       "    this.interval *= 0.7;\n",
       "    if(this.direction > 0){this.play_animation();}\n",
       "    else if(this.direction < 0){this.reverse_animation();}\n",
       "}\n",
       "\n",
       "ScrubberWidget.prototype.anim_step_forward = function() {\n",
       "    if(this.current_frame < this.length || (this.dynamic && !this.stopped)){\n",
       "        this.next_frame();\n",
       "    }else{\n",
       "        var loop_state = this.get_loop_state();\n",
       "        if(loop_state == \"loop\"){\n",
       "            this.first_frame();\n",
       "        }else if(loop_state == \"reflect\"){\n",
       "            this.last_frame();\n",
       "            this.reverse_animation();\n",
       "        }else{\n",
       "            this.pause_animation();\n",
       "            this.last_frame();\n",
       "        }\n",
       "    }\n",
       "}\n",
       "\n",
       "ScrubberWidget.prototype.anim_step_reverse = function() {\n",
       "    this.current_frame -= 1;\n",
       "    if(this.current_frame >= 0){\n",
       "        this.set_frame(this.current_frame);\n",
       "    } else {\n",
       "        var loop_state = this.get_loop_state();\n",
       "        if(loop_state == \"loop\"){\n",
       "            this.last_frame();\n",
       "        }else if(loop_state == \"reflect\"){\n",
       "            this.first_frame();\n",
       "            this.play_animation();\n",
       "        }else{\n",
       "            this.pause_animation();\n",
       "            this.first_frame();\n",
       "        }\n",
       "    }\n",
       "}\n",
       "\n",
       "ScrubberWidget.prototype.pause_animation = function() {\n",
       "    this.direction = 0;\n",
       "    if (this.timer){\n",
       "        clearInterval(this.timer);\n",
       "        this.timer = null;\n",
       "    }\n",
       "}\n",
       "\n",
       "ScrubberWidget.prototype.play_animation = function() {\n",
       "    this.pause_animation();\n",
       "    this.direction = 1;\n",
       "    var t = this;\n",
       "    if (!this.timer) this.timer = setInterval(function(){t.anim_step_forward();}, this.interval);\n",
       "}\n",
       "\n",
       "ScrubberWidget.prototype.reverse_animation = function() {\n",
       "    this.pause_animation();\n",
       "    this.direction = -1;\n",
       "    var t = this;\n",
       "    if (!this.timer) this.timer = setInterval(function(){t.anim_step_reverse();}, this.interval);\n",
       "}\n",
       "\n",
       "function extend(destination, source) {\n",
       "    for (var k in source) {\n",
       "        if (source.hasOwnProperty(k)) {\n",
       "            destination[k] = source[k];\n",
       "        }\n",
       "    }\n",
       "    return destination;\n",
       "}\n",
       "\n",
       "function update_widget(widget, values) {\n",
       "\tif (widget.hasClass(\"ui-slider\")) {\n",
       "\t\twidget.slider('option',\n",
       "\t\t\t\t\t  {'min': 0, 'max': values.length-1,\n",
       "\t\t\t\t\t   'dim_vals': values, 'value': 0,\n",
       "\t\t\t\t\t   'dim_labels': values})\n",
       "\t\twidget.slider('option', 'slide').call(widget, event, {'value': 0})\n",
       "\t} else {\n",
       "\t\twidget.empty();\n",
       "\t\tfor (var i=0; i<values.length; i++){\n",
       "\t\t\twidget.append($(\"<option>\", {\n",
       "\t\t\t\tvalue: i,\n",
       "\t\t\t\ttext: values[i]\n",
       "\t\t\t}))};\n",
       "\t\twidget.data('values', values);\n",
       "\t\twidget.data('value', 0);\n",
       "\t\twidget.trigger(\"change\");\n",
       "\t};\n",
       "}\n",
       "\n",
       "// Define MPL specific subclasses\n",
       "function MPLSelectionWidget() {\n",
       "\tSelectionWidget.apply(this, arguments);\n",
       "}\n",
       "\n",
       "function MPLScrubberWidget() {\n",
       "\tScrubberWidget.apply(this, arguments);\n",
       "}\n",
       "\n",
       "// Let them inherit from the baseclasses\n",
       "MPLSelectionWidget.prototype = Object.create(SelectionWidget.prototype);\n",
       "MPLScrubberWidget.prototype = Object.create(ScrubberWidget.prototype);\n",
       "\n",
       "// Define methods to override on widgets\n",
       "var MPLMethods = {\n",
       "\tinit_slider : function(init_val){\n",
       "\t\tif(this.load_json) {\n",
       "\t\t\tthis.from_json()\n",
       "\t\t} else {\n",
       "\t\t\tthis.update_cache();\n",
       "\t\t}\n",
       "\t\tthis.update(0);\n",
       "\t\tif(this.mode == 'nbagg') {\n",
       "\t\t\tthis.set_frame(init_val, 0);\n",
       "\t\t}\n",
       "\t},\n",
       "\tpopulate_cache : function(idx){\n",
       "\t\tvar cache_id = this.img_id+\"_\"+idx;\n",
       "\t\tif(this.mode == 'mpld3') {\n",
       "\t\t\tmpld3.draw_figure(cache_id, this.frames[idx]);\n",
       "\t\t} else {\n",
       "\t\t\tthis.cache[idx].html(this.frames[idx]);\n",
       "\t\t}\n",
       "\t\tif (this.embed) {\n",
       "\t\t\tdelete this.frames[idx];\n",
       "\t\t}\n",
       "\t},\n",
       "\tdynamic_update : function(current){\n",
       "\t\tif (this.dynamic) {\n",
       "\t\t\tcurrent = JSON.stringify(current);\n",
       "\t\t}\n",
       "\t\tfunction callback(msg){\n",
       "\t\t\t/* This callback receives data from Python as a string\n",
       "\t\t\t in order to parse it correctly quotes are sliced off*/\n",
       "\t\t\tif (msg.content.ename != undefined) {\n",
       "\t\t\t\tthis.process_error(msg);\n",
       "\t\t\t}\n",
       "\t\t\tif (msg.msg_type != \"execute_result\") {\n",
       "\t\t\t\tconsole.log(\"Warning: HoloViews callback returned unexpected data for key: (\", current, \") with the following content:\", msg.content)\n",
       "\t\t\t\tthis.time = undefined;\n",
       "\t\t\t\treturn\n",
       "\t\t\t}\n",
       "\t\t\tif (!(this.mode == 'nbagg')) {\n",
       "\t\t\t\tif(!(current in this.cache)) {\n",
       "\t\t\t\t\tvar data = msg.content.data['text/plain'].slice(1, -1);\n",
       "\t\t\t\t\tif(this.mode == 'mpld3'){\n",
       "\t\t\t\t\t\tdata = JSON.parse(data)[0];\n",
       "\t\t\t\t\t}\n",
       "\t\t\t\t\tthis.frames[current] = data;\n",
       "\t\t\t\t\tthis.update_cache();\n",
       "\t\t\t\t}\n",
       "\t\t\t\tthis.update(current);\n",
       "\t\t\t}\n",
       "\t\t\tthis.timed = (Date.now() - this.time) * 1.5;\n",
       "\t\t\tthis.wait = false;\n",
       "\t\t\tif (this.queue.length > 0) {\n",
       "\t\t\t\tvar current_vals = this.queue[this.queue.length-1];\n",
       "\t\t\t\tthis.time = Date.now();\n",
       "\t\t\t\tthis.dynamic_update(current_vals);\n",
       "\t\t\t\tthis.queue = [];\n",
       "\t\t\t}\n",
       "\t\t}\n",
       "\t\tvar kernel = IPython.notebook.kernel;\n",
       "\t\tcallbacks = {iopub: {output: $.proxy(callback, this)}};\n",
       "\t\tvar cmd = \"holoviews.plotting.widgets.NdWidget.widgets['\" + this.id + \"'].update(\" + current + \")\";\n",
       "\t\tkernel.execute(\"import holoviews;\" + cmd, callbacks, {silent : false});\n",
       "\t}\n",
       "}\n",
       "\n",
       "// Extend MPL widgets with backend specific methods\n",
       "extend(MPLSelectionWidget.prototype, MPLMethods);\n",
       "extend(MPLScrubberWidget.prototype, MPLMethods);\n",
       "</script>\n",
       "\n",
       "\n",
       "<link rel=\"stylesheet\" href=\"https://code.jquery.com/ui/1.10.4/themes/smoothness/jquery-ui.css\">\n",
       "<style>div.hololayout {\n",
       "    display: flex;\n",
       "    align-items: center;\n",
       "    margin: 0;\n",
       "}\n",
       "\n",
       "div.holoframe {\n",
       "\twidth: 75%;\n",
       "}\n",
       "\n",
       "div.holowell {\n",
       "    display: flex;\n",
       "    align-items: center;\n",
       "    margin: 0;\n",
       "}\n",
       "\n",
       "form.holoform {\n",
       "    background-color: #fafafa;\n",
       "    border-radius: 5px;\n",
       "    overflow: hidden;\n",
       "\tpadding-left: 0.8em;\n",
       "    padding-right: 0.8em;\n",
       "    padding-top: 0.4em;\n",
       "    padding-bottom: 0.4em;\n",
       "}\n",
       "\n",
       "div.holowidgets {\n",
       "    padding-right: 0;\n",
       "\twidth: 25%;\n",
       "}\n",
       "\n",
       "div.holoslider {\n",
       "    min-height: 0 !important;\n",
       "    height: 0.8em;\n",
       "    width: 60%;\n",
       "}\n",
       "\n",
       "div.holoformgroup {\n",
       "    padding-top: 0.5em;\n",
       "    margin-bottom: 0.5em;\n",
       "}\n",
       "\n",
       "div.hologroup {\n",
       "    padding-left: 0;\n",
       "    padding-right: 0.8em;\n",
       "    width: 50%;\n",
       "}\n",
       "\n",
       ".holoselect {\n",
       "    width: 92%;\n",
       "    margin-left: 0;\n",
       "    margin-right: 0;\n",
       "}\n",
       "\n",
       ".holotext {\n",
       "    width: 100%;\n",
       "    padding-left:  0.5em;\n",
       "    padding-right: 0;\n",
       "}\n",
       "\n",
       ".holowidgets .ui-resizable-se {\n",
       "\tvisibility: hidden\n",
       "}\n",
       "\n",
       ".holoframe > .ui-resizable-se {\n",
       "\tvisibility: hidden\n",
       "}\n",
       "\n",
       ".holowidgets .ui-resizable-s {\n",
       "\tvisibility: hidden\n",
       "}\n",
       "</style>\n",
       "\n",
       "\n",
       "<div>\n",
       "<img src='data:image/png;base64,iVBORw0KGgoAAAANSUhEUgAAABkAAAAZCAIAAABLixI0AAAACXBIWXMAAAsTAAALEwEAmpwYAAAAB3RJTUUH3wkCDDIOi3cusgAABT1JREFUOMtVlclvG2UYh3/fMovHe53FThySNHZomrRJl6QR0AJdpVblQBEHJC4ciipxAgmO3PgPEP8BQkIsRUJUSF1oqGih0JY2CtnjOLGz2Em8xPbMeL6Pw9RJOprLjPT+5tH7Pu83JE7pqeHh8wMD2evfyXMXf/nxB2FZo6dPNzVHvvr6GxMQeOEigARswNzzUgK6x8NagPzS0nqxODQ62nLn1xMnX99/eLC3sGVROj2/IBxHABKgANlzM4ACTuMRAOecNREiAWtzc0NIEu/M37zVMTWeqlrpUDg1M7NTVgdkowwvxqGRRV1CE8jOznq7uhYAi2CpXtdVVQE4QAAdCAAGwAAJyEa9Amh7PsAihBBAABrg1XUfpe3bxTXb8XR0WJa1VSzWGyAcUAEVoIAARIMOQH2HC4AA6lKW8/n9Pm/Ahl4zV8fGTg0PtzQ3K3tA3GId8AO+BqZLt8sFQKE0GouRSkWtFM63KV0Vy1rJhN44k56cFFI6exJ3MBWANACVHS63aw5QtutVVT/4xWfHv/0ylytmHvx56sIFLxACfIABGIAf8ANRn++9y5evXrkS0XWXd5dLJWRfOHwspA1tr4iFtP3gD8/apjCtSDiyQYhZKNA94wOQTCQPhfzm9FTJH8jn84Tz3SyPlEQ4vf0Dt5/MPE5vpVObzQbxqvaDdL731MnWnh5pmsxxdE3rTCZfO3u2FbL6+2+hzpcKwXA2ldrNUgAVII7TMXhkZnzcAQTgAWI6sgV7YmKivLra1tFxMJk4Ho/r5fLy3btsYS7JHL1YoeHQKldKhcLzLNcdlRDOWDgczuVyOtDt4yN9gRYVmc161TTLmYw9P9e8OHcU5dG2fa3EmhNyKjGwROmzZ8+YqlIAKsDd9jtOenIy1t8vgDJQtuvYrjRT0kMQBRIUQxqSXkSDUIO0YAulvdfxGk/u33eVZs2EeBvu6gCjtKW7Oz81xQBhI73mtATQn/BuZ6wTrezsYX+1Jn+aNR8sl9Zb47l4/O+HD2u27QDgnHUQwhvKuFmRaLS2tkZsmwJSQpqIUzHYyynndx5t/1Vy5gXyhMhorEJIKpViQB0QnFNlZzkbdExRhBAckIAFbFXFetkpg94er004WK6jCniamrRAYHlmxhXFtWTXVfW50SQYDjvVKm+YHVMR10G5VAGrcWAohkEVpbC1RRo7QN2mS0BzuQiJHziwMTurAwrgBTo95NVjnshb3XaF9q1MTM7VeWNv6kJQgAISYAAHuARUQAHA2NCZM35KJ27c6KA4YiBXJlpVro5bkaGN2mStsCy8gAXobpyU7iFhAgxQAB40jMHh4WhnJ6nVpsfGVjOZUQMhi40k9K1FqQZI4ogffd3k33GPobTb5kCIFmriEYjgnABao60KwD68eCnz5PH0vXsr4+OsVIpRvNmpnLvQEozRpm5vxAP107dx+RMlvGTcmw7Xle6DwZlsdbZY05qbAq2ta9msCkhAcM4+yv+3uFZWAA+gA5pEaUOUnpaMohb+/BK7+j76r4IliFoyAv9EjsZ4ZbMmyOKqmdvciiWTL4+OUsY8mkY554d7okGyciuHqgQFVIABlkJ9fV44FLFrz8ecuIZ3u6offzD1fSnFmJSgle35mzcdVQ1Eo23B4Eh7lJdWNgZGohM/r5QAjZEoaDzi0TfKPlFDV/KF35mqs0NN1v3iRrqqAT7Xbdti6UXPImKZaf5SQiUBtAIG0OVXXnmnDUJWb9nET7D8VPba7pAJTKRnxPUpI+v0BXlApZPrlgDaCTke1VqaaLZC/wesjSVVF5Ac7QAAAABJRU5ErkJggg=='\n",
       "     style='width:25px;height:25px; border-radius:12px;'/>\n",
       "\n",
       "HoloViewsJS successfully loaded in this cell.\n",
       "</div>\n"
      ],
      "text/plain": [
       "<IPython.core.display.HTML object>"
      ]
     },
     "metadata": {},
     "output_type": "display_data"
    }
   ],
   "source": [
    "from math import *\n",
    "import numpy as np\n",
    "import matplotlib.pyplot as plt\n",
    "import matplotlib.pyplot as mpl\n",
    "import matplotlib.patches as patches\n",
    "from mpl_toolkits.mplot3d import Axes3D\n",
    "from matplotlib import cm\n",
    "from matplotlib.ticker import LinearLocator, FormatStrFormatter\n",
    "import holoviews as hv\n",
    "import numpy as np\n",
    "import seaborn\n",
    "hv.notebook_extension()\n",
    "%matplotlib inline\n",
    "\n",
    "interval = 10\n",
    "interval_size = 0.01\n",
    "\n",
    "mpl.rcParams.update({'font.size':14})\n",
    "mpl.rcParams['xtick.major.pad']='8'\n",
    "mpl.rcParams['ytick.major.pad']='8'\n",
    "mpl.rcParams['lines.linewidth'] = 4\n",
    "plt.rc('text', usetex=True)"
   ]
  },
  {
   "cell_type": "code",
   "execution_count": 2,
   "metadata": {
    "collapsed": true
   },
   "outputs": [],
   "source": [
    "def gaussian(x,mu,sigma):\n",
    "    y = np.exp(-(x-mu)**2/(2*sigma**2))/(2*pi*sigma**2)**(1.0/2)\n",
    "    return y\n",
    "\n",
    "\n",
    "def pdf_multivariate_gauss(x, mu, cov):\n",
    "    '''\n",
    "    Caculate the multivariate normal density (pdf)\n",
    "\n",
    "    Keyword arguments:\n",
    "        x = numpy array of a \"d x 1\" sample vector\n",
    "        mu = numpy array of a \"d x 1\" mean vector\n",
    "        cov = \"numpy array of a d x d\" covariance matrix\n",
    "    '''\n",
    "    assert(mu.shape[0] > mu.shape[1]), 'mu must be a row vector'\n",
    "    assert(x.shape[0] > x.shape[1]), 'x must be a row vector'\n",
    "    assert(cov.shape[0] == cov.shape[1]), 'covariance matrix must be square'\n",
    "    assert(mu.shape[0] == cov.shape[0]), 'cov_mat and mu_vec must have the same dimensions'\n",
    "    assert(mu.shape[0] == x.shape[0]), 'mu and x must have the same dimensions'\n",
    "    part1 = 1 / ( ((2* np.pi)**(len(mu)/2)) * (np.linalg.det(cov)**(1/2)) )\n",
    "    part2 = (-1/2) * ((x-mu).T.dot(np.linalg.inv(cov))).dot((x-mu))\n",
    "    return float(part1 * np.exp(part2))\n",
    "\n",
    "def two_dimen_gaussian(mu,cov,x = np.arange(-7, 7, 0.1),y = np.arange(-7, 7, 0.1), samples=False):\n",
    "    fig_size = 5\n",
    "    #plt.figure(figsize=[fig_size+1.5, fig_size])\n",
    "    plt.figure(figsize=[fig_size, fig_size])\n",
    "    xx, yy = np.meshgrid(x, y, sparse=True)\n",
    "    z = np.zeros((len(x),len(y)))\n",
    "    for i in range(len(x)):\n",
    "        for j in range(len(y)):\n",
    "            z[i,j] = pdf_multivariate_gauss(np.array([[xx[0][i]], [yy[j][0]]]), mu, cov)\n",
    "    plt.contourf(x,y,z,cmap=cm.gray)\n",
    "    x, y = np.random.multivariate_normal([mu[0][0],mu[1][0]], cov, 100).T\n",
    "    #plt.colorbar(shrink=0.8, pad = 0.05)\n",
    "    plt.ylabel('X2')\n",
    "    plt.xlabel('X1')\n",
    "    if samples:\n",
    "        plt.plot(x, y, 'x')\n",
    "        plt.axis('equal')\n",
    "        plt.xlim([-4,4])\n",
    "        plt.ylim([-4,4])\n",
    "    "
   ]
  },
  {
   "cell_type": "code",
   "execution_count": 3,
   "metadata": {
    "collapsed": false
   },
   "outputs": [
    {
     "name": "stdout",
     "output_type": "stream",
     "text": [
      "0.0 5.0\n",
      "0.0 3.0\n",
      "0.0 1.0\n",
      "-2.0 1.0\n"
     ]
    },
    {
     "data": {
      "text/plain": [
       "<matplotlib.text.Text at 0x7fc7997b63c8>"
      ]
     },
     "execution_count": 3,
     "metadata": {},
     "output_type": "execute_result"
    },
    {
     "data": {
      "image/png": "[encoded data removed]",
      "text/plain": [
       "<matplotlib.figure.Figure at 0x7fc7997d07f0>"
      ]
     },
     "metadata": {},
     "output_type": "display_data"
    }
   ],
   "source": [
    "x = np.arange(-interval, interval+10, interval_size)\n",
    "mu=[0.0,0.0,0.0,-2.0]\n",
    "sigma=[5.0,3.0,1.0,1.0]\n",
    "\n",
    "plt.xlim([-10,20])\n",
    "plt.ylim([0,0.5])\n",
    "\n",
    "for i in np.arange(0,len(mu),1):\n",
    "    name = 'g'+str(i) + ','\n",
    "    print (mu[i],sigma[i])\n",
    "    exec(name + \" = plt.plot(x,gaussian(x,\" + str(mu[i]) + \",\" + str(sigma[i]) + \"), label='$\\mu=\" + str(mu[i]) + \",\\sigma=\" + str(sigma[i]) + \"$')\")\n",
    "plt.legend(handles=[g0,g1,g2,g3])\n",
    "plt.ylabel('Y')\n",
    "plt.xlabel('X')"
   ]
  },
  {
   "cell_type": "code",
   "execution_count": 4,
   "metadata": {
    "collapsed": false
   },
   "outputs": [
    {
     "data": {
      "image/png": "[encoded data removed]",
      "text/plain": [
       "<matplotlib.figure.Figure at 0x7fc7996f7b00>"
      ]
     },
     "metadata": {},
     "output_type": "display_data"
    }
   ],
   "source": [
    "x = np.arange(-5, 5, 0.1)\n",
    "y = np.arange(-5, 5, 0.1)\n",
    "xx, yy = np.meshgrid(x, y, sparse=True)\n",
    "z = np.zeros((100,100))\n",
    "mu=np.array([[0],[0]])\n",
    "cov=np.eye(2)\n",
    "\n",
    "for i in range(100):\n",
    "        for j in range(100):\n",
    "            z[i,j] = pdf_multivariate_gauss(np.array([[xx[0][i]], [yy[j][0]]]), mu, cov)\n",
    "\n",
    "fig = plt.figure()\n",
    "ax = fig.gca(projection='3d')\n",
    "\n",
    "surf = ax.plot_surface(xx, yy, z, rstride=1, cstride=1, cmap=cm.coolwarm,\n",
    "                       linewidth=0, antialiased=False)\n",
    "\n",
    "\n",
    "mpl.rcParams['xtick.major.pad']='0'\n",
    "mpl.rcParams['ytick.major.pad']='0'\n",
    "ax.set_xticks([-4,0,4])\n",
    "ax.set_yticks([-4,0,4])\n",
    "ax.set_zticks([0,0.08,0.16])\n",
    "#fig.colorbar(surf, shrink=0.5, aspect=5)\n",
    "ax.set_xlabel('X1')\n",
    "ax.set_ylabel('X2')\n",
    "ax.set_zlabel('Y')\n",
    "plt.tight_layout()\n",
    "plt.show()"
   ]
  },
  {
   "cell_type": "code",
   "execution_count": 5,
   "metadata": {
    "collapsed": false
   },
   "outputs": [
    {
     "data": {
      "image/png": "[encoded data removed]",
      "text/plain": [
       "<matplotlib.figure.Figure at 0x7fc7ccb072e8>"
      ]
     },
     "metadata": {},
     "output_type": "display_data"
    }
   ],
   "source": [
    "mu=np.array([[0],[0]])\n",
    "cov=np.eye(2)\n",
    "two_dimen_gaussian(mu,cov)"
   ]
  },
  {
   "cell_type": "code",
   "execution_count": 6,
   "metadata": {
    "collapsed": false
   },
   "outputs": [
    {
     "data": {
      "image/png": "[encoded data removed]",
      "text/plain": [
       "<matplotlib.figure.Figure at 0x7fc798735f28>"
      ]
     },
     "metadata": {},
     "output_type": "display_data"
    }
   ],
   "source": [
    "mu=np.array([[0],[0]])\n",
    "cov=np.array([[1   , 0.4],\n",
    "              [0.4 , 1  ]])\n",
    "two_dimen_gaussian(mu,cov)"
   ]
  },
  {
   "cell_type": "code",
   "execution_count": 7,
   "metadata": {
    "collapsed": false
   },
   "outputs": [
    {
     "data": {
      "image/png": "[encoded data removed]",
      "text/plain": [
       "<matplotlib.figure.Figure at 0x7fc7990d9f28>"
      ]
     },
     "metadata": {},
     "output_type": "display_data"
    }
   ],
   "source": [
    "mu=np.array([[0],[0]])\n",
    "cov=np.array([[1   , 0.7],\n",
    "              [0.7 , 1  ]])\n",
    "two_dimen_gaussian(mu,cov)"
   ]
  },
  {
   "cell_type": "code",
   "execution_count": 8,
   "metadata": {
    "collapsed": false
   },
   "outputs": [
    {
     "data": {
      "text/plain": [
       "<matplotlib.legend.Legend at 0x7fc798b7b7b8>"
      ]
     },
     "execution_count": 8,
     "metadata": {},
     "output_type": "execute_result"
    },
    {
     "data": {
      "image/png": "[encoded data removed]",
      "text/plain": [
       "<matplotlib.figure.Figure at 0x7fc799193390>"
      ]
     },
     "metadata": {},
     "output_type": "display_data"
    }
   ],
   "source": [
    "ax1 = plt.gca()\n",
    "\n",
    "ax1.add_patch(\n",
    "    patches.Rectangle(\n",
    "        (-10, 0),   # (x,y)\n",
    "        20,          # width\n",
    "        0.133,          # height\n",
    "        facecolor=\"#ffffff\",\n",
    "        linewidth=1\n",
    "    )\n",
    ")\n",
    "\n",
    "samples=200\n",
    "interval = 20\n",
    "mu=0\n",
    "sigma=3\n",
    "x = np.arange(-interval, interval, interval_size)\n",
    "y = gaussian(x,mu,sigma)\n",
    "\n",
    "xs = np.random.uniform(-10,10,samples)\n",
    "ys = np.random.uniform(0,y[int(y.shape[0]/2)],samples)\n",
    "\n",
    "\n",
    "plt.xlim([-interval,interval])\n",
    "plt.ylim([0,0.2])\n",
    "\n",
    "g = plt.plot(x,y, label='$\\mu=' + str(mu) + ',\\sigma^2=' + str(sigma) + '$')\n",
    "for i in range(samples):\n",
    "    if (ys[i]<gaussian(xs[i],mu,sigma)):\n",
    "        a = plt.scatter(xs[i],ys[i],marker='x',c='b',zorder=2, label='Accepted samples')\n",
    "    else:\n",
    "        r = plt.scatter(xs[i],ys[i],marker='o',zorder=2,c='r', label='Rejected samples')\n",
    "plt.ylabel('Y')\n",
    "plt.xlabel('X')\n",
    "plt.legend((a,r),\n",
    "           ('Accepted Samples', 'Rejected Samples'),\n",
    "           scatterpoints=1,\n",
    "           loc='upper right')\n"
   ]
  },
  {
   "cell_type": "code",
   "execution_count": 9,
   "metadata": {
    "collapsed": false
   },
   "outputs": [
    {
     "data": {
      "text/plain": [
       "<matplotlib.legend.Legend at 0x7fc7990e56d8>"
      ]
     },
     "execution_count": 9,
     "metadata": {},
     "output_type": "execute_result"
    },
    {
     "data": {
      "image/png": "[encoded data removed]",
      "text/plain": [
       "<matplotlib.figure.Figure at 0x7fc7990e57b8>"
      ]
     },
     "metadata": {},
     "output_type": "display_data"
    }
   ],
   "source": [
    "interval = 20\n",
    "x = np.arange(-interval, interval, interval_size)\n",
    "y = gaussian(x,mu,sigma)\n",
    "plt.xlim([-interval,interval])\n",
    "plt.ylim([0,0.2])\n",
    "g = plt.plot(x,y, label='$\\mu=' + str(mu) + ',\\sigma^2=' + str(sigma) + '$')\n",
    "plt.ylabel('Y')\n",
    "plt.xlabel('X')\n",
    "plt.legend(handles=g)"
   ]
  },
  {
   "cell_type": "code",
   "execution_count": 10,
   "metadata": {
    "collapsed": false
   },
   "outputs": [
    {
     "data": {
      "image/png": "[encoded data removed]",
      "text/plain": [
       "<matplotlib.figure.Figure at 0x7fc7990d8e48>"
      ]
     },
     "metadata": {},
     "output_type": "display_data"
    }
   ],
   "source": [
    "mu=np.array([[0],[0]])\n",
    "cov=np.array([[1   , 0.9],\n",
    "              [0.9 , 1  ]])\n",
    "two_dimen_gaussian(mu,cov)"
   ]
  },
  {
   "cell_type": "code",
   "execution_count": 11,
   "metadata": {
    "collapsed": false
   },
   "outputs": [
    {
     "data": {
      "text/plain": [
       "<matplotlib.text.Text at 0x7fc79968cac8>"
      ]
     },
     "execution_count": 11,
     "metadata": {},
     "output_type": "execute_result"
    },
    {
     "data": {
      "image/png": "[encoded data removed]",
      "text/plain": [
       "<matplotlib.figure.Figure at 0x7fc7990d56d8>"
      ]
     },
     "metadata": {},
     "output_type": "display_data"
    }
   ],
   "source": [
    "mu=np.array([[0],[0]])\n",
    "cov=np.array([[1   , 0.9],\n",
    "              [0.9 , 1  ]])\n",
    "two_dimen_gaussian(mu,cov)\n",
    "mu = [0,0]\n",
    "fig_size = 5\n",
    "#plt.figure(figsize=[fig_size, fig_size])\n",
    "\n",
    "x, y = np.random.multivariate_normal(mu, cov, 200).T\n",
    "plt.plot(x, y, 'x',c='b')\n",
    "plt.xlim([-6,6])\n",
    "plt.ylim([-6,6])\n",
    "plt.ylabel('X2')\n",
    "plt.xlabel('X1')"
   ]
  },
  {
   "cell_type": "code",
   "execution_count": 13,
   "metadata": {
    "collapsed": false
   },
   "outputs": [
    {
     "data": {
      "image/png": "[encoded data removed]",
      "text/plain": [
       "<matplotlib.figure.Figure at 0x7fc79909ca58>"
      ]
     },
     "metadata": {},
     "output_type": "display_data"
    },
    {
     "data": {
      "image/png": "[encoded data removed]",
      "text/plain": [
       "<matplotlib.figure.Figure at 0x7fc79909ccc0>"
      ]
     },
     "metadata": {},
     "output_type": "display_data"
    }
   ],
   "source": [
    "mpl.rcParams['xtick.major.pad']='8'\n",
    "mpl.rcParams['ytick.major.pad']='8'\n",
    "mu=np.array([[0],[0]])\n",
    "cov=np.array([[1   , 0.9],\n",
    "              [0.9 , 1  ]])\n",
    "two_dimen_gaussian(mu,cov)\n",
    "x, y = np.random.multivariate_normal([mu[0][0],mu[1][0]], cov, 10).T\n",
    "plt.plot(x,y,'*',c='b',markersize=10)\n",
    "plt.figure()\n",
    "plt.xlim(0.5,2.5)\n",
    "plt.ylim(-6,6)\n",
    "plt.xticks([1,2])\n",
    "plt.ylabel('$X_{N}$')\n",
    "plt.xlabel('$N$')\n",
    "for i in range(len(x)):\n",
    "    plt.plot([1,2],[x[i],y[i]],c='b')\n",
    "    plt.plot([1,2],[x[i],y[i]],'*',c='b',markersize=10)"
   ]
  }
 ],
 "metadata": {
  "kernelspec": {
   "display_name": "Python 3",
   "language": "python",
   "name": "python3"
  },
  "language_info": {
   "codemirror_mode": {
    "name": "ipython",
    "version": 3
   },
   "file_extension": ".py",
   "mimetype": "text/x-python",
   "name": "python",
   "nbconvert_exporter": "python",
   "pygments_lexer": "ipython3",
   "version": "3.5.2"
  }
 },
 "nbformat": 4,
 "nbformat_minor": 1
}
